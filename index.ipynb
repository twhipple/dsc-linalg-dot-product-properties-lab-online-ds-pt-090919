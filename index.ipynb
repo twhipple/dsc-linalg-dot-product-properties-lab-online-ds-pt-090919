{
 "cells": [
  {
   "cell_type": "markdown",
   "metadata": {},
   "source": [
    "# Properties of Dot Product - Lab\n",
    "\n",
    "## Introduction\n",
    "\n",
    "In this lab, you'll be practicing some interesting properties of a dot product-type matrix multiplication. Understanding these properties will become useful as you study machine learning. The lab will require you to calculate results to provide a proof for these properties.\n",
    "\n",
    "## Objectives\n",
    "\n",
    "In this lab you will: \n",
    "\n",
    "- Demonstrate the distributive, commutative, and associative property of dot products \n",
    "- Use the transpose method to transpose Numpy matrices \n",
    "- Compute the dot product for matrices and vectors \n",
    "\n",
    "\n",
    "## Instructions\n",
    "\n",
    "* For each property, create suitably sized matrices with random data to prove the equations \n",
    "* Ensure that size/dimension assumptions are met while performing calculations (you'll see errors otherwise)\n",
    "* Calculate the LHS and RHS for all equations and show if they are equal or not\n"
   ]
  },
  {
   "cell_type": "code",
   "execution_count": 2,
   "metadata": {},
   "outputs": [],
   "source": [
    "import numpy as np\n",
    "import random"
   ]
  },
  {
   "cell_type": "code",
   "execution_count": 22,
   "metadata": {},
   "outputs": [],
   "source": [
    "import random\n",
    "def new_matrix(a, b):\n",
    "    M = np.zeros((a, b))\n",
    "    for x in range(0, M.shape[0]):\n",
    "        for y in range(0, M.shape[1]):\n",
    "            M[x][y] = random.randrange(1, 9) \n",
    "    return(M)"
   ]
  },
  {
   "cell_type": "code",
   "execution_count": 27,
   "metadata": {},
   "outputs": [
    {
     "name": "stdout",
     "output_type": "stream",
     "text": [
      "Matrix A: \n",
      " [[6. 8. 6. 4.]\n",
      " [5. 2. 8. 2.]\n",
      " [6. 4. 1. 8.]\n",
      " [7. 6. 1. 2.]]\n",
      "Matrix B: \n",
      " [[3. 1. 3. 3.]\n",
      " [8. 2. 3. 6.]\n",
      " [1. 6. 4. 7.]\n",
      " [7. 6. 4. 3.]]\n",
      "Matrix C: \n",
      " [[7. 4. 3. 3.]\n",
      " [1. 8. 6. 5.]\n",
      " [4. 6. 5. 4.]\n",
      " [2. 7. 6. 5.]]\n"
     ]
    }
   ],
   "source": [
    "A = new_matrix(4,4)\n",
    "print('Matrix A:', \"\\n\", A)\n",
    "B = new_matrix(4,4)\n",
    "print('Matrix B:',\"\\n\", B)\n",
    "C = new_matrix(4,4)\n",
    "print('Matrix C:',\"\\n\", C)"
   ]
  },
  {
   "cell_type": "markdown",
   "metadata": {},
   "source": [
    "## Distributive Property - matrix multiplication IS distributive\n",
    "\n",
    "### Prove that $A \\cdot (B+C) = (A \\cdot B + A \\cdot C) $"
   ]
  },
  {
   "cell_type": "code",
   "execution_count": 28,
   "metadata": {},
   "outputs": [
    {
     "name": "stdout",
     "output_type": "stream",
     "text": [
      "LHS \n",
      " [[198. 234. 202. 222.]\n",
      " [126. 167. 140. 156.]\n",
      " [173. 186. 161. 155.]\n",
      " [147. 133. 125. 135.]]\n",
      "RHS \n",
      " [[198. 234. 202. 222.]\n",
      " [126. 167. 140. 156.]\n",
      " [173. 186. 161. 155.]\n",
      " [147. 133. 125. 135.]]\n"
     ]
    }
   ],
   "source": [
    "# Your code here\n",
    "#LHS\n",
    "LHS = A.dot(B+C)\n",
    "print(\"LHS\", '\\n', LHS)\n",
    "#RHS\n",
    "RHS = A.dot(B)+A.dot(C)\n",
    "print(\"RHS\", '\\n', RHS)"
   ]
  },
  {
   "cell_type": "markdown",
   "metadata": {},
   "source": [
    "## Associative Property - matrix multiplication IS associative\n",
    "### Prove that $A \\cdot (B \\cdot C) = (A \\cdot B) \\cdot C $"
   ]
  },
  {
   "cell_type": "code",
   "execution_count": 29,
   "metadata": {},
   "outputs": [
    {
     "name": "stdout",
     "output_type": "stream",
     "text": [
      "LHS \n",
      " [[1462. 2452. 1970. 1686.]\n",
      " [ 862. 1753. 1412. 1193.]\n",
      " [1227. 1879. 1497. 1290.]\n",
      " [ 969. 1428. 1149.  991.]]\n",
      "RHS \n",
      " [[1462. 2452. 1970. 1686.]\n",
      " [ 862. 1753. 1412. 1193.]\n",
      " [1227. 1879. 1497. 1290.]\n",
      " [ 969. 1428. 1149.  991.]]\n"
     ]
    }
   ],
   "source": [
    "# Your code here \n",
    "#LHS\n",
    "LHS = A.dot(B.dot(C))\n",
    "print(\"LHS\", '\\n', LHS)\n",
    "#RHS\n",
    "RHS = (A.dot(B)).dot(C)\n",
    "print(\"RHS\", '\\n', RHS)"
   ]
  },
  {
   "cell_type": "markdown",
   "metadata": {},
   "source": [
    "## Commutative Property - matrix multiplication is NOT commutative\n",
    "### Prove that for matrices, $A \\cdot B \\neq B \\cdot A $"
   ]
  },
  {
   "cell_type": "code",
   "execution_count": 30,
   "metadata": {},
   "outputs": [
    {
     "name": "stdout",
     "output_type": "stream",
     "text": [
      "LHS \n",
      " [[116.  82.  82. 120.]\n",
      " [ 53.  69.  61.  89.]\n",
      " [107.  68.  66.  73.]\n",
      " [ 84.  37.  51.  70.]]\n",
      "RHS \n",
      " [[ 62.  56.  32.  44.]\n",
      " [118. 116.  73.  72.]\n",
      " [109.  78.  65.  62.]\n",
      " [117. 102.  97.  78.]]\n"
     ]
    }
   ],
   "source": [
    "# Your code here \n",
    "#LHS\n",
    "LHS = A.dot(B)\n",
    "print(\"LHS\", '\\n', LHS)\n",
    "#RHS\n",
    "RHS = B.dot(A)\n",
    "print(\"RHS\", '\\n', RHS)"
   ]
  },
  {
   "cell_type": "markdown",
   "metadata": {},
   "source": [
    "## Commutative Property -  vector multiplication IS commutative\n",
    "### Prove that for vectors,  $x^T \\cdot y = y^T \\cdot x$\n",
    "Note: superscipt<sup>T</sup> denotes the transpose we saw earlier"
   ]
  },
  {
   "cell_type": "code",
   "execution_count": 60,
   "metadata": {},
   "outputs": [],
   "source": [
    "import random\n",
    "def new_vector(a):\n",
    "    V = np.zeros([a])\n",
    "    for x in range(0, V.shape[0]):\n",
    "        V[x] = random.randrange(1, 9) \n",
    "    return(V)"
   ]
  },
  {
   "cell_type": "code",
   "execution_count": 61,
   "metadata": {},
   "outputs": [
    {
     "name": "stdout",
     "output_type": "stream",
     "text": [
      "Vector x: \n",
      " [5. 2. 3.]\n",
      "Vector y: \n",
      " [5. 4. 6.]\n"
     ]
    }
   ],
   "source": [
    "x = new_vector(3)\n",
    "y = new_vector(3)\n",
    "print('Vector x:', '\\n', x)\n",
    "print('Vector y:', '\\n', y)"
   ]
  },
  {
   "cell_type": "code",
   "execution_count": 66,
   "metadata": {},
   "outputs": [
    {
     "data": {
      "text/plain": [
       "array([[2, 4, 6]])"
      ]
     },
     "execution_count": 66,
     "metadata": {},
     "output_type": "execute_result"
    }
   ],
   "source": [
    "y = np.array([[2, 4, 6]])\n",
    "y"
   ]
  },
  {
   "cell_type": "code",
   "execution_count": 68,
   "metadata": {},
   "outputs": [
    {
     "data": {
      "text/plain": [
       "array([[2],\n",
       "       [4],\n",
       "       [6]])"
      ]
     },
     "execution_count": 68,
     "metadata": {},
     "output_type": "execute_result"
    }
   ],
   "source": [
    "np.transpose(y)"
   ]
  },
  {
   "cell_type": "code",
   "execution_count": 67,
   "metadata": {},
   "outputs": [
    {
     "data": {
      "text/plain": [
       "array([[1, 3, 5]])"
      ]
     },
     "execution_count": 67,
     "metadata": {},
     "output_type": "execute_result"
    }
   ],
   "source": [
    "x = np.array([[1,3,5]])\n",
    "x"
   ]
  },
  {
   "cell_type": "code",
   "execution_count": 69,
   "metadata": {},
   "outputs": [
    {
     "data": {
      "text/plain": [
       "array([[1],\n",
       "       [3],\n",
       "       [5]])"
      ]
     },
     "execution_count": 69,
     "metadata": {},
     "output_type": "execute_result"
    }
   ],
   "source": [
    "np.transpose(x)"
   ]
  },
  {
   "cell_type": "code",
   "execution_count": 72,
   "metadata": {},
   "outputs": [
    {
     "name": "stdout",
     "output_type": "stream",
     "text": [
      "LHS: \n",
      " [[ 2  4  6]\n",
      " [ 6 12 18]\n",
      " [10 20 30]]\n",
      "RHS: \n",
      " [[ 2  6 10]\n",
      " [ 4 12 20]\n",
      " [ 6 18 30]]\n"
     ]
    }
   ],
   "source": [
    "# Your code here \n",
    "#A_transposed = A.T\n",
    "#A_transposed_2 = np.transpose(A)\n",
    "\n",
    "#LHS\n",
    "LHS = np.transpose(x)*y\n",
    "print(\"LHS:\", '\\n', LHS)\n",
    "#RHS\n",
    "RHS = np.transpose(y)*x\n",
    "print(\"RHS:\", '\\n', RHS)\n"
   ]
  },
  {
   "cell_type": "code",
   "execution_count": 73,
   "metadata": {},
   "outputs": [
    {
     "name": "stdout",
     "output_type": "stream",
     "text": [
      "LHS: \n",
      " [[ 2  4  6]\n",
      " [ 6 12 18]\n",
      " [10 20 30]]\n",
      "RHS: \n",
      " [[ 2  6 10]\n",
      " [ 4 12 20]\n",
      " [ 6 18 30]]\n"
     ]
    }
   ],
   "source": [
    "# Your code here \n",
    "#A_transposed = A.T\n",
    "#A_transposed_2 = np.transpose(A)\n",
    "\n",
    "#LHS\n",
    "LHS = np.transpose(x).dot(y)\n",
    "print(\"LHS:\", '\\n', LHS)\n",
    "#RHS\n",
    "RHS = np.transpose(y).dot(x)\n",
    "print(\"RHS:\", '\\n', RHS)\n"
   ]
  },
  {
   "cell_type": "markdown",
   "metadata": {},
   "source": [
    "## Simplification of the matrix product\n",
    "### Prove that $ (A \\cdot B)^T = B^T \\cdot A^T $"
   ]
  },
  {
   "cell_type": "code",
   "execution_count": 74,
   "metadata": {},
   "outputs": [
    {
     "name": "stdout",
     "output_type": "stream",
     "text": [
      "[[6. 8. 6. 4.]\n",
      " [5. 2. 8. 2.]\n",
      " [6. 4. 1. 8.]\n",
      " [7. 6. 1. 2.]] \n",
      "\n",
      "[[3. 1. 3. 3.]\n",
      " [8. 2. 3. 6.]\n",
      " [1. 6. 4. 7.]\n",
      " [7. 6. 4. 3.]] \n",
      "\n",
      "LHS \n",
      " [[116.  53. 107.  84.]\n",
      " [ 82.  69.  68.  37.]\n",
      " [ 82.  61.  66.  51.]\n",
      " [120.  89.  73.  70.]]\n",
      "RHS \n",
      " [[116.  53. 107.  84.]\n",
      " [ 82.  69.  68.  37.]\n",
      " [ 82.  61.  66.  51.]\n",
      " [120.  89.  73.  70.]]\n"
     ]
    }
   ],
   "source": [
    "# Your code here \n",
    "print(A, '\\n')\n",
    "print(B, '\\n')\n",
    "#LHS\n",
    "LHS = (A.dot(B)).T\n",
    "print(\"LHS\", '\\n', LHS)\n",
    "#RHS\n",
    "RHS = (B.T).dot(A.T)\n",
    "print(\"RHS\", '\\n', RHS)"
   ]
  },
  {
   "cell_type": "markdown",
   "metadata": {},
   "source": [
    "## Summary \n",
    "\n",
    "You've seen enough matrix algebra by now to solve a problem of linear equations as you saw earlier. You'll now see how to do this next. "
   ]
  },
  {
   "cell_type": "code",
   "execution_count": 75,
   "metadata": {},
   "outputs": [
    {
     "name": "stdout",
     "output_type": "stream",
     "text": [
      "[[ True]\n",
      " [ True]\n",
      " [ True]]\n"
     ]
    }
   ],
   "source": [
    "import numpy as np\n",
    "\n",
    "\n",
    "# Distributive\n",
    "\n",
    "A = np.array([[2, 3], [1, 4], [7, 6]])\n",
    "B = np.array([[5], [2]])\n",
    "C = np.array([[4], [3]])\n",
    "\n",
    "left = A.dot(B + C)\n",
    "right = A.dot(B) + A.dot(C)\n",
    "\n",
    "print (left == right)"
   ]
  },
  {
   "cell_type": "code",
   "execution_count": 76,
   "metadata": {},
   "outputs": [
    {
     "data": {
      "text/plain": [
       "array([[ True],\n",
       "       [ True],\n",
       "       [ True]])"
      ]
     },
     "execution_count": 76,
     "metadata": {},
     "output_type": "execute_result"
    }
   ],
   "source": [
    "\n",
    "# Associative\n",
    "\n",
    "A = np.array([[2, 3], [1, 4], [7, 6]])\n",
    "B = B = np.array([[5, 3], [2, 2]])\n",
    "C = np.array([[4], [3]])\n",
    "\n",
    "left = A.dot(B.dot(C))\n",
    "right = (A.dot(B)).dot(C)\n",
    "\n",
    "left == right"
   ]
  },
  {
   "cell_type": "code",
   "execution_count": 77,
   "metadata": {},
   "outputs": [
    {
     "name": "stdout",
     "output_type": "stream",
     "text": [
      "[[16 12]\n",
      " [40 28]]\n",
      "[[28 30]\n",
      " [16 16]]\n"
     ]
    },
    {
     "data": {
      "text/plain": [
       "array([[False, False],\n",
       "       [False, False]])"
      ]
     },
     "execution_count": 77,
     "metadata": {},
     "output_type": "execute_result"
    }
   ],
   "source": [
    "\n",
    "# Commutative\n",
    "\n",
    "A = np.array([[2, 3], [6, 5]])\n",
    "B = np.array([[5, 3], [2, 2]])\n",
    "\n",
    "left = A.dot(B)\n",
    "right = B.dot(A)\n",
    "\n",
    "print(left)\n",
    "print(right)\n",
    "\n",
    "left == right"
   ]
  },
  {
   "cell_type": "code",
   "execution_count": 78,
   "metadata": {},
   "outputs": [
    {
     "data": {
      "text/plain": [
       "array([[ True]])"
      ]
     },
     "execution_count": 78,
     "metadata": {},
     "output_type": "execute_result"
    }
   ],
   "source": [
    "\n",
    "# Vector Commutative\n",
    "\n",
    "x = np.array([[2], [6], [7]])\n",
    "y = np.array([[3], [5], [9]])\n",
    "\n",
    "left = np.transpose(x).dot(y)\n",
    "right = np.transpose(y).dot(x)\n",
    "left == right"
   ]
  },
  {
   "cell_type": "code",
   "execution_count": 79,
   "metadata": {},
   "outputs": [
    {
     "data": {
      "text/plain": [
       "array([[ True,  True,  True,  True,  True],\n",
       "       [ True,  True,  True,  True,  True]])"
      ]
     },
     "execution_count": 79,
     "metadata": {},
     "output_type": "execute_result"
    }
   ],
   "source": [
    "\n",
    "# Matrix\n",
    "\n",
    "A = np.array([[2, 13], [1, 4], [72, 6], [18, 12], [27,5]])\n",
    "B = np.array([[5, 30], [22, 2]])\n",
    "\n",
    "left = np.transpose(A.dot(B))\n",
    "right = np.transpose(B).dot(np.transpose(A))\n",
    "left == right"
   ]
  },
  {
   "cell_type": "code",
   "execution_count": null,
   "metadata": {},
   "outputs": [],
   "source": []
  },
  {
   "cell_type": "code",
   "execution_count": null,
   "metadata": {},
   "outputs": [],
   "source": []
  },
  {
   "cell_type": "code",
   "execution_count": null,
   "metadata": {},
   "outputs": [],
   "source": []
  },
  {
   "cell_type": "code",
   "execution_count": null,
   "metadata": {},
   "outputs": [],
   "source": []
  },
  {
   "cell_type": "code",
   "execution_count": null,
   "metadata": {},
   "outputs": [],
   "source": []
  },
  {
   "cell_type": "code",
   "execution_count": null,
   "metadata": {},
   "outputs": [],
   "source": []
  },
  {
   "cell_type": "code",
   "execution_count": null,
   "metadata": {},
   "outputs": [],
   "source": []
  }
 ],
 "metadata": {
  "kernelspec": {
   "display_name": "learn-env",
   "language": "python",
   "name": "learn-env"
  },
  "language_info": {
   "codemirror_mode": {
    "name": "ipython",
    "version": 3
   },
   "file_extension": ".py",
   "mimetype": "text/x-python",
   "name": "python",
   "nbconvert_exporter": "python",
   "pygments_lexer": "ipython3",
   "version": "3.6.6"
  }
 },
 "nbformat": 4,
 "nbformat_minor": 2
}
